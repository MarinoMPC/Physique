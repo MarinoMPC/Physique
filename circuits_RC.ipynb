{
 "cells": [
  {
   "cell_type": "code",
   "execution_count": 8,
   "metadata": {},
   "outputs": [],
   "source": [
    "##### Imports #####\n",
    "\n",
    "import numpy as np\n",
    "from matplotlib import pyplot as plt"
   ]
  },
  {
   "cell_type": "code",
   "execution_count": 14,
   "metadata": {},
   "outputs": [],
   "source": [
    "##### Save figure #####\n",
    "\n",
    "save_fig=False\n",
    "save_path='/home/steffou/Documents/prof_lifestyle/physique/prepa/colles/colles_elec/'\n",
    "\n"
   ]
  },
  {
   "cell_type": "code",
   "execution_count": 15,
   "metadata": {},
   "outputs": [],
   "source": [
    "##### Parameters #####\n",
    "\n",
    "R=2000 # in Ohm\n",
    "C=1e-7 # in Farad\n",
    "U0=5  # in Volts\n",
    "tmax=1.5 # in milliseconds\n",
    "nb_points=1000 # Number of points to plot\n",
    "opened_switch=False # Set to false if the switch is closed at t=0s, True if the switch is opened at t=0s"
   ]
  },
  {
   "cell_type": "code",
   "execution_count": 16,
   "metadata": {},
   "outputs": [],
   "source": [
    "##### Solutions computing #####\n",
    "\n",
    "t=np.linspace(0,tmax,nb_points)\n",
    "tau=R*C\n",
    "\n",
    "if opened_switch==True:\n",
    "    u=U0*np.exp(-t/tau/1000)\n",
    "else:\n",
    "    u=U0*(1-np.exp(-t/tau/1000))\n",
    "    i=U0/R*1000*np.exp(-t/tau/1000)"
   ]
  },
  {
   "cell_type": "code",
   "execution_count": 17,
   "metadata": {},
   "outputs": [
    {
     "data": {
      "text/plain": [
       "(array([0., 1., 2., 3., 4., 5., 6.]),\n",
       " [Text(0, 0, ''),\n",
       "  Text(0, 0, ''),\n",
       "  Text(0, 0, ''),\n",
       "  Text(0, 0, ''),\n",
       "  Text(0, 0, ''),\n",
       "  Text(0, 0, ''),\n",
       "  Text(0, 0, '')])"
      ]
     },
     "execution_count": 17,
     "metadata": {},
     "output_type": "execute_result"
    },
    {
     "data": {
      "image/png": "[encoded data removed]",
      "text/plain": [
       "<Figure size 432x288 with 1 Axes>"
      ]
     },
     "metadata": {
      "needs_background": "light"
     },
     "output_type": "display_data"
    }
   ],
   "source": [
    "##### Plot #####\n",
    "\n",
    "\n",
    "fig,ax=plt.subplots(figsize=(6,4))\n",
    "ax.plot(t,u)\n",
    "ax.set_xlabel('t (ms)',fontsize=15)\n",
    "ax.set_ylabel(r'$u_c$ (V)',fontsize=15)\n",
    "ax.set_xlim(0,tmax)\n",
    "ax.set_ylim(0)\n",
    "ax.text(1.2,4.5,r'$u_c=U_0$',c='r',fontsize=15)\n",
    "ax.plot([0,5],[5,5],linestyle='--',c='r')\n",
    "plt.xticks(fontsize=13)\n",
    "plt.yticks(fontsize=13)"
   ]
  },
  {
   "cell_type": "code",
   "execution_count": 18,
   "metadata": {},
   "outputs": [],
   "source": [
    "##### Save figure #####\n",
    "\n",
    "if save_fig:\n",
    "    plt.savefig(save_path+'c_charge.pdf')"
   ]
  },
  {
   "cell_type": "code",
   "execution_count": 19,
   "metadata": {},
   "outputs": [
    {
     "data": {
      "text/plain": [
       "(array([0. , 0.5, 1. , 1.5, 2. , 2.5, 3. ]),\n",
       " [Text(0, 0, ''),\n",
       "  Text(0, 0, ''),\n",
       "  Text(0, 0, ''),\n",
       "  Text(0, 0, ''),\n",
       "  Text(0, 0, ''),\n",
       "  Text(0, 0, ''),\n",
       "  Text(0, 0, '')])"
      ]
     },
     "execution_count": 19,
     "metadata": {},
     "output_type": "execute_result"
    },
    {
     "data": {
      "image/png": "[encoded data removed]",
      "text/plain": [
       "<Figure size 432x288 with 1 Axes>"
      ]
     },
     "metadata": {
      "needs_background": "light"
     },
     "output_type": "display_data"
    }
   ],
   "source": [
    "fig,ax=plt.subplots(figsize=(6,4))\n",
    "ax.plot(t,i)\n",
    "ax.set_xlabel('t (ms)',fontsize=15)\n",
    "ax.set_ylabel(r'$i$ (mA)',fontsize=15)\n",
    "ax.set_xlim(0,tmax)\n",
    "ax.set_ylim(0)\n",
    "plt.xticks(fontsize=13)\n",
    "plt.yticks(fontsize=13)"
   ]
  },
  {
   "cell_type": "code",
   "execution_count": 21,
   "metadata": {},
   "outputs": [],
   "source": [
    "##### Save figure #####\n",
    "if save_fig: \n",
    "    plt.savefig(save_path+'c_charge_intensity.pdf')"
   ]
  },
  {
   "cell_type": "code",
   "execution_count": null,
   "metadata": {},
   "outputs": [],
   "source": []
  },
  {
   "cell_type": "code",
   "execution_count": null,
   "metadata": {},
   "outputs": [],
   "source": []
  },
  {
   "cell_type": "code",
   "execution_count": null,
   "metadata": {},
   "outputs": [],
   "source": []
  }
 ],
 "metadata": {
  "kernelspec": {
   "display_name": "Python 3 (ipykernel)",
   "language": "python",
   "name": "python3"
  },
  "language_info": {
   "codemirror_mode": {
    "name": "ipython",
    "version": 3
   },
   "file_extension": ".py",
   "mimetype": "text/x-python",
   "name": "python",
   "nbconvert_exporter": "python",
   "pygments_lexer": "ipython3",
   "version": "3.10.4"
  }
 },
 "nbformat": 4,
 "nbformat_minor": 4
}
