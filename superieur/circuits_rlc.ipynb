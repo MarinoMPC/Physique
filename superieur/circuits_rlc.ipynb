{
 "cells": [
  {
   "cell_type": "code",
   "execution_count": 5,
   "metadata": {},
   "outputs": [],
   "source": [
    "import numpy as np\n",
    "from matplotlib import pyplot as plt"
   ]
  },
  {
   "cell_type": "code",
   "execution_count": 10,
   "metadata": {},
   "outputs": [],
   "source": [
    "R=1800 #in Ohm\n",
    "L=0.1 # In Henry\n",
    "C=1e-7 # In Farad\n",
    "\n",
    "other_curve=True\n",
    "R2=4000\n",
    "L2=0.1\n",
    "C2=1e-7\n",
    "\n",
    "\n",
    "tmin,tmax=0,0.01 # in seconds\n",
    "nb_points=1000 # to compute time array\n",
    "\n",
    "i_0=0\n",
    "di_dt_0=10"
   ]
  },
  {
   "cell_type": "code",
   "execution_count": 11,
   "metadata": {},
   "outputs": [
    {
     "name": "stdout",
     "output_type": "stream",
     "text": [
      "1199999999.9999993\n"
     ]
    }
   ],
   "source": [
    "def canon(R,L,C):\n",
    "    omega_0=1/np.sqrt(L*C)\n",
    "    Q=np.sqrt(L/C)/R\n",
    "    delta=omega_0**2/Q**2-4*omega_0**2\n",
    "    return(omega_0,Q,delta)\n",
    "\n",
    "omega1,Q1,delta1=canon(R,L,C)\n",
    "omega2,Q2,delta2=canon(R2,L2,C2)\n",
    "print(delta2)\n",
    "t=np.linspace(tmin,tmax,nb_points)"
   ]
  },
  {
   "cell_type": "markdown",
   "metadata": {},
   "source": [
    "Aperiodic :\n",
    "$i(t)=Ae^{\\lambda_+t}+Be^{\\lambda_-t}$ with $\\lambda_\\pm=-\\frac{\\omega_0}{2Q}\\pm\\omega_0\\sqrt{\\frac{1}{4Q^2}-1},\\  A=\\frac{\\lambda_-i(0)-\\partial_ti(0)}{\\lambda_--\\lambda_+},\\ B=\\frac{\\lambda_+i(0)-\\partial_ti(0)}{\\lambda_+-\\lambda_-}$\n"
   ]
  },
  {
   "cell_type": "markdown",
   "metadata": {},
   "source": [
    "Pseudo-periodic : $i(t)=e^{-\\frac{t}{\\tau}}(A\\cos{\\Omega t}+B\\sin{\\Omega t})$, with $\\tau=\\frac{2Q}{\\omega_0},\\ \\Omega=\\omega_0\\sqrt{1-\\frac{1}{4Q^2}},\\ A=i(0),\\  B=\\frac{\\partial_ti(0)}{\\Omega}$"
   ]
  },
  {
   "cell_type": "markdown",
   "metadata": {},
   "source": [
    "Critical : $i(t)=(A+Bt)\\ e^{-\\frac{t}{\\tau}}$ with $\\tau=-\\frac{2Q}{\\omega_0},\\ A=i(0), \\ B=\\partial_ti(0)-\\frac{i(0)}{\\tau}$"
   ]
  },
  {
   "cell_type": "code",
   "execution_count": 12,
   "metadata": {},
   "outputs": [],
   "source": [
    "def i(t,omega=omega1,Q=Q1,delta=delta1):\n",
    "    \n",
    "    if delta>0:\n",
    "        lambda_p=-omega/(2*Q)+omega*np.sqrt(1/(4*Q**2)-1)\n",
    "        lambda_m=-omega/(2*Q)-omega*np.sqrt(1/(4*Q**2)-1)\n",
    "        A=(lambda_m*i_0-di_dt_0)/(lambda_m-lambda_p)\n",
    "        B=(lambda_p*i_0-di_dt_0)/(lambda_p-lambda_m)\n",
    "        return(A*np.exp(lambda_p*t)+B*np.exp(lambda_m*t))\n",
    "    \n",
    "    elif delta<0:\n",
    "        tau=2*Q/omega\n",
    "        Omega=omega*np.sqrt(1-1/(4*Q**2))\n",
    "        A=i_0\n",
    "        B=di_dt_0/Omega\n",
    "        return(np.exp(-t/tau)*(A*np.cos(Omega*t)+B*np.sin(Omega*t)))\n",
    "    \n",
    "    else :\n",
    "        tau=2*Q/omega\n",
    "        A=i_0\n",
    "        B=di_dt_0-i_0/tau\n",
    "        return((A+B*t)*np.exp(-t/tau))"
   ]
  },
  {
   "cell_type": "code",
   "execution_count": 13,
   "metadata": {},
   "outputs": [
    {
     "data": {
      "image/png": "[encoded data removed]",
      "text/plain": [
       "<Figure size 432x288 with 1 Axes>"
      ]
     },
     "metadata": {
      "needs_background": "light"
     },
     "output_type": "display_data"
    }
   ],
   "source": [
    "fig,ax=plt.subplots(figsize=(6,4))\n",
    "ax.plot(t,i(t)*1000,label=r'$R=$'+str(R)+' '+r'$\\Omega$'+', '+r'$Q=$'+str((Q1//0.01)*0.01))\n",
    "if other_curve:\n",
    "    ax.plot(t,i(t,omega2,Q2,delta2)*1000,label=r'$R=$'+str(R2)+' '+r'$\\Omega$'+', '+r'$Q=$'+str((Q2//0.01)*0.01))\n",
    "ax.set_xlim(tmin,tmax)\n",
    "ax.set_xlabel('t (s)',fontsize=15)\n",
    "ax.set_ylabel('i (mA)',fontsize=15)\n",
    "plt.xticks(fontsize=13)\n",
    "plt.yticks(fontsize=13)\n",
    "plt.legend(fontsize=15)\n",
    "plt.savefig('./colles/colles_elec/regime_pseudo.pdf')"
   ]
  },
  {
   "cell_type": "code",
   "execution_count": null,
   "metadata": {},
   "outputs": [],
   "source": []
  },
  {
   "cell_type": "code",
   "execution_count": null,
   "metadata": {},
   "outputs": [],
   "source": []
  }
 ],
 "metadata": {
  "kernelspec": {
   "display_name": "Python 3",
   "language": "python",
   "name": "python3"
  },
  "language_info": {
   "codemirror_mode": {
    "name": "ipython",
    "version": 3
   },
   "file_extension": ".py",
   "mimetype": "text/x-python",
   "name": "python",
   "nbconvert_exporter": "python",
   "pygments_lexer": "ipython3",
   "version": "3.8.10"
  }
 },
 "nbformat": 4,
 "nbformat_minor": 4
}
